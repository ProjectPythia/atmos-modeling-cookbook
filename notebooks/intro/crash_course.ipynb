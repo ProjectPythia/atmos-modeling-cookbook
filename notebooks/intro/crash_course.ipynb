{
 "cells": [
  {
   "cell_type": "markdown",
   "metadata": {},
   "source": [
    "Let's start here! If you can directly link to an image relevant to your notebook, such as [canonical logos](https://github.com/numpy/numpy/blob/main/doc/source/_static/numpylogo.svg), do so here at the top of your notebook. You can do this with Markdown syntax,\n",
    "\n",
    "> `![<image title>](http://link.com/to/image.png \"image alt text\")`\n",
    "\n",
    "or edit this cell to see raw HTML `img` demonstration. This is preferred if you need to shrink your embedded image. **Either way be sure to include `alt` text for any embedded images to make your content more accessible.**\n",
    "\n",
    "<img src=\"images/ProjectPythia_Logo_Final-01-Blue.svg\" width=250 alt=\"Project Pythia Logo\"></img>"
   ]
  },
  {
   "cell_type": "markdown",
   "metadata": {},
   "source": [
    "# Crash Course Towards Your First Model\n",
    "\n",
    "Next, title your notebook appropriately with a top-level Markdown header, `#`. Do not use this level header anywhere else in the notebook. Our book build process will use this title in the navbar, table of contents, etc. Keep it short, keep it descriptive. Follow this with a `---` cell to visually distinguish the transition to the prerequisites section."
   ]
  },
  {
   "cell_type": "markdown",
   "metadata": {},
   "source": [
    "---"
   ]
  },
  {
   "cell_type": "markdown",
   "metadata": {},
   "source": [
    "## Overview\n",
    "If you have an introductory paragraph, lead with it here! Keep it short and tied to your material, then be sure to continue into the required list of topics below,\n",
    "\n",
    "1. This is a numbered list of the specific topics\n",
    "1. These should map approximately to your main sections of content\n",
    "1. Or each second-level, `##`, header in your notebook\n",
    "1. Keep the size and scope of your notebook in check\n",
    "1. And be sure to let the reader know up front the important concepts they'll be leaving with"
   ]
  },
  {
   "cell_type": "markdown",
   "metadata": {},
   "source": [
    "## Prerequisites\n",
    "This section was inspired by [this template](https://github.com/alan-turing-institute/the-turing-way/blob/master/book/templates/chapter-template/chapter-landing-page.md) of the wonderful [The Turing Way](https://the-turing-way.netlify.app) Jupyter Book.\n",
    "\n",
    "Following your overview, tell your reader what concepts, packages, or other background information they'll **need** before learning your material. Tie this explicitly with links to other pages here in Foundations or to relevant external resources. Remove this body text, then populate the Markdown table, denoted in this cell with `|` vertical brackets, below, and fill out the information following. In this table, lay out prerequisite concepts by explicitly linking to other Foundations material or external resources, or describe generally helpful concepts.\n",
    "\n",
    "Label the importance of each concept explicitly as **helpful/necessary**.\n",
    "\n",
    "| Concepts | Importance | Notes |\n",
    "| --- | --- | --- |\n",
    "| [Intro to Cartopy](https://foundations.projectpythia.org/core/cartopy/cartopy.html) | Necessary | |\n",
    "| [Understanding of NetCDF](https://foundations.projectpythia.org/core/data-formats/netcdf-cf.html) | Helpful | Familiarity with metadata structure |\n",
    "| Project management | Helpful | |\n",
    "\n",
    "- **Time to learn**: estimate in minutes. For a rough idea, use 5 mins per subsection, 10 if longer; add these up for a total. Safer to round up and overestimate.\n",
    "- **System requirements**:\n",
    "    - Populate with any system, version, or non-Python software requirements if necessary\n",
    "    - Otherwise use the concepts table above and the Imports section below to describe required packages as necessary\n",
    "    - If no extra requirements, remove the **System requirements** point altogether"
   ]
  },
  {
   "cell_type": "markdown",
   "metadata": {},
   "source": [
    "---"
   ]
  },
  {
   "cell_type": "markdown",
   "metadata": {},
   "source": [
    "## Imports\n",
    "\n",
    "Here we'll be using a basic set of Python libraries, along with Numba for fast numerical routines. A helpful constants file is also imported."
   ]
  },
  {
   "cell_type": "code",
   "execution_count": 1,
   "metadata": {},
   "outputs": [],
   "source": [
    "import numpy as np\n",
    "import numba\n",
    "import xarray as xr\n",
    "import matplotlib.pyplot as plt\n",
    "\n",
    "from constants import *"
   ]
  },
  {
   "cell_type": "markdown",
   "metadata": {},
   "source": [
    "## Introduction"
   ]
  },
  {
   "cell_type": "markdown",
   "metadata": {},
   "source": [
    "...TODO..."
   ]
  },
  {
   "cell_type": "code",
   "execution_count": null,
   "metadata": {},
   "outputs": [],
   "source": [
    "# some subsection code\n",
    "new = \"helpful information\""
   ]
  },
  {
   "cell_type": "markdown",
   "metadata": {},
   "source": [
    "## Basic Equations\n",
    "\n",
    "...TODO..."
   ]
  },
  {
   "cell_type": "markdown",
   "metadata": {},
   "source": [
    "### Starting Equations\n",
    "\n",
    "...TODO..."
   ]
  },
  {
   "cell_type": "markdown",
   "metadata": {},
   "source": [
    "### Assumptions and Simplification\n",
    "\n",
    "...TODO..."
   ]
  },
  {
   "cell_type": "markdown",
   "metadata": {},
   "source": [
    "### Final Prognostic Equations\n",
    "\n",
    "...TODO..."
   ]
  },
  {
   "cell_type": "markdown",
   "metadata": {},
   "source": [
    "## Model Configuration\n",
    "\n",
    "...TODO..."
   ]
  },
  {
   "cell_type": "markdown",
   "metadata": {},
   "source": [
    "### Grid Type\n",
    "\n",
    "...TODO..."
   ]
  },
  {
   "cell_type": "markdown",
   "metadata": {},
   "source": [
    "### Initial/Boundary Conditions\n",
    "\n",
    "...TODO..."
   ]
  },
  {
   "cell_type": "markdown",
   "metadata": {},
   "source": [
    "## Discritization\n",
    "\n",
    "...TODO..."
   ]
  },
  {
   "cell_type": "code",
   "execution_count": 2,
   "metadata": {},
   "outputs": [],
   "source": [
    "@numba.njit()\n",
    "def u_tendency_u_advection_term(u, dx):\n",
    "    term = np.zeros_like(u)\n",
    "    for k in range(1, u.shape[0] - 1):\n",
    "        for i in range(1, u.shape[1] - 1):\n",
    "            term[k, i] = u[k, i] * (u[k, i + 1] - u[k, i - 1]) / (2 * dx)\n",
    "    return term"
   ]
  },
  {
   "cell_type": "code",
   "execution_count": 4,
   "metadata": {},
   "outputs": [],
   "source": [
    "@numba.njit()\n",
    "def u_tendency_w_advection_term(u, w, dz):\n",
    "    term = np.zeros_like(u)\n",
    "    for k in range(1, u.shape[0] - 1):\n",
    "        for i in range(1, u.shape[1] - 1):\n",
    "            term[k, i] = 0.25 * (\n",
    "                w[k + 1, i] + w[k + 1, i - 1] + w[k, i] + w[k, i - 1] \n",
    "            ) * (u[k + 1, i] - u[k - 1, i]) / (2 * dz)\n",
    "    return term"
   ]
  },
  {
   "cell_type": "code",
   "execution_count": 5,
   "metadata": {},
   "outputs": [],
   "source": [
    "@numba.njit()\n",
    "def u_tendency_pgf_term(u, pi, theta_base, dx):\n",
    "    term = np.zeros_like(u)\n",
    "    for k in range(1, u.shape[0] - 1):\n",
    "        for i in range(1, u.shape[1] - 1):\n",
    "            term[k, i] = c_p * theta_base[k] * (pi[k, i] - pi[k, i - 1]) / dx\n",
    "    return term"
   ]
  },
  {
   "cell_type": "code",
   "execution_count": 35,
   "metadata": {},
   "outputs": [],
   "source": [
    "@numba.njit()\n",
    "def u_tendency(u, w, pi, theta_base, dx, dz):\n",
    "    return (\n",
    "        u_tendency_u_advection_term(u, dx)\n",
    "        + u_tendency_w_advection_term(u, w, dz)\n",
    "        + u_tendency_pgf_term(u, pi, theta_base, dx)\n",
    "    ) * -1"
   ]
  },
  {
   "cell_type": "code",
   "execution_count": null,
   "metadata": {},
   "outputs": [],
   "source": []
  },
  {
   "cell_type": "markdown",
   "metadata": {},
   "source": [
    "---"
   ]
  },
  {
   "cell_type": "code",
   "execution_count": 28,
   "metadata": {},
   "outputs": [],
   "source": [
    "@numba.njit()\n",
    "def theta_tendency_u_advection_term(u, theta, dx):\n",
    "    term = np.zeros_like(theta)\n",
    "    for k in range(1, theta.shape[0] - 1):\n",
    "        for i in range(1, theta.shape[1] - 1):\n",
    "            term[k, i] = (\n",
    "                (u[k, i + 1] + u[k, i]) / 2\n",
    "                * (theta[k, i + 1] - theta[k, i - 1]) / (2 * dx)\n",
    "            )\n",
    "    return term"
   ]
  },
  {
   "cell_type": "code",
   "execution_count": 29,
   "metadata": {},
   "outputs": [],
   "source": [
    "@numba.njit()\n",
    "def theta_tendency_w_advection_of_perturbation_term(w, theta, dz):\n",
    "    term = np.zeros_like(theta)\n",
    "    for k in range(1, theta.shape[0] - 1):\n",
    "        for i in range(1, theta.shape[1] - 1):\n",
    "            term[k, i] = (\n",
    "                (w[k + 1, i] + w[k, i]) / 2\n",
    "                * (theta[k + 1, i] - theta[k - 1, i]) / (2 * dz)\n",
    "            )\n",
    "    return term"
   ]
  },
  {
   "cell_type": "code",
   "execution_count": 30,
   "metadata": {},
   "outputs": [],
   "source": [
    "@numba.njit()\n",
    "def theta_tendency_w_advection_of_base_term(w, theta, theta_base, dz):\n",
    "    term = np.zeros_like(theta)\n",
    "    for k in range(1, theta.shape[0] - 1):\n",
    "        for i in range(1, theta.shape[1] - 1):\n",
    "            term[k, i] = (\n",
    "                (w[k + 1, i] + w[k, i]) / 2\n",
    "                * (theta[k + 1] - theta[k - 1]) / (2 * dz)\n",
    "            )\n",
    "    return term"
   ]
  },
  {
   "cell_type": "code",
   "execution_count": 32,
   "metadata": {},
   "outputs": [],
   "source": [
    "@numba.njit()\n",
    "def theta_tendency(u, w, theta, theta_base, dx, dz):\n",
    "    return (\n",
    "        theta_tendency_u_advection_term(u, theta, dx)\n",
    "        + theta_tendency_w_advection_of_perturbation_term(w, theta, dz)\n",
    "        + theta_tendency_w_advection_of_base_term(w, theta, theta_base, dz)\n",
    "    ) * -1"
   ]
  },
  {
   "cell_type": "code",
   "execution_count": null,
   "metadata": {},
   "outputs": [],
   "source": []
  },
  {
   "cell_type": "code",
   "execution_count": 34,
   "metadata": {},
   "outputs": [],
   "source": [
    "@numba.njit()\n",
    "def pi_tendency(u, w, pi, theta_base, rho_base, c_s_sqr, dx, dz):\n",
    "    term = np.zeros_like(pi)\n",
    "    for k in range(1, pi.shape[0] - 1):\n",
    "        for i in range(1, pi.shape[1] - 1):\n",
    "            term[k, i] = (\n",
    "                -1 * (c_s_sqr / (c_p * rho_base[k] * theta_base[k]**2))\n",
    "                * (\n",
    "                    (rho_base[k] * theta_base[k] * (u[k, i + 1] - u[k, i]) / dx)\n",
    "                    + (\n",
    "                        (w[k + 1, i] + w[k, i]) / 2\n",
    "                        * (rho_base[k + 1] * theta_base[k + 1] - rho_base[k - 1] * theta_base[k - 1]) / (2 * dz)\n",
    "                    )\n",
    "                    + (rho_base[k] * theta_base[k] * (w[k + 1, i] - w[k, i]) / dz)\n",
    "                )\n",
    "            )\n",
    "    return term"
   ]
  },
  {
   "cell_type": "markdown",
   "metadata": {},
   "source": [
    "---"
   ]
  },
  {
   "cell_type": "markdown",
   "metadata": {},
   "source": [
    "## Summary\n",
    "\n",
    "...TODO...\n",
    "\n",
    "Add one final `---` marking the end of your body of content, and then conclude with a brief single paragraph summarizing at a high level the key pieces that were learned and how they tied to your objectives. Look to reiterate what the most important takeaways were.\n",
    "\n",
    "### What's next?\n",
    "Let Jupyter book tie this to the next (sequential) piece of content that people could move on to down below and in the sidebar. However, if this page uniquely enables your reader to tackle other nonsequential concepts throughout this book, or even external content, link to it here!"
   ]
  },
  {
   "cell_type": "markdown",
   "metadata": {},
   "source": [
    "## Resources and references\n",
    "Finally, be rigorous in your citations and references as necessary. Give credit where credit is due. Also, feel free to link to relevant external material, further reading, documentation, etc. Then you're done! Give yourself a quick review, a high five, and send us a pull request. A few final notes:\n",
    " - `Kernel > Restart Kernel and Run All Cells...` to confirm that your notebook will cleanly run from start to finish\n",
    " - `Kernel > Restart Kernel and Clear All Outputs...` before committing your notebook, our machines will do the heavy lifting\n",
    " - Take credit! Provide author contact information if you'd like; if so, consider adding information here at the bottom of your notebook\n",
    " - Give credit! Attribute appropriate authorship for referenced code, information, images, etc.\n",
    " - Only include what you're legally allowed: **no copyright infringement or plagiarism**\n",
    " \n",
    "Thank you for your contribution!"
   ]
  }
 ],
 "metadata": {
  "kernelspec": {
   "display_name": "Python 3 (ipykernel)",
   "language": "python",
   "name": "python3"
  },
  "language_info": {
   "codemirror_mode": {
    "name": "ipython",
    "version": 3
   },
   "file_extension": ".py",
   "mimetype": "text/x-python",
   "name": "python",
   "nbconvert_exporter": "python",
   "pygments_lexer": "ipython3",
   "version": "3.11.6"
  },
  "nbdime-conflicts": {
   "local_diff": [
    {
     "diff": [
      {
       "diff": [
        {
         "key": 0,
         "op": "addrange",
         "valuelist": [
          "Python 3"
         ]
        },
        {
         "key": 0,
         "length": 1,
         "op": "removerange"
        }
       ],
       "key": "display_name",
       "op": "patch"
      }
     ],
     "key": "kernelspec",
     "op": "patch"
    }
   ],
   "remote_diff": [
    {
     "diff": [
      {
       "diff": [
        {
         "key": 0,
         "op": "addrange",
         "valuelist": [
          "Python3"
         ]
        },
        {
         "key": 0,
         "length": 1,
         "op": "removerange"
        }
       ],
       "key": "display_name",
       "op": "patch"
      }
     ],
     "key": "kernelspec",
     "op": "patch"
    }
   ]
  },
  "toc-autonumbering": false
 },
 "nbformat": 4,
 "nbformat_minor": 4
}
