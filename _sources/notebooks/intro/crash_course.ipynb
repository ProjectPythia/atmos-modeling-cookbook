{
 "cells": [
  {
   "cell_type": "markdown",
   "metadata": {},
   "source": [
    "<img src=\"../images/basic_bubble.png\" width=350 alt=\"Colormesh plot of a simple warm bubble within our model after 20 seconds of model run time\"></img>"
   ]
  },
  {
   "cell_type": "markdown",
   "metadata": {},
   "source": [
    "# Crash Course Towards Your First Model"
   ]
  },
  {
   "cell_type": "markdown",
   "metadata": {},
   "source": [
    "---"
   ]
  },
  {
   "cell_type": "markdown",
   "metadata": {},
   "source": [
    "## Overview\n",
    "\n",
    "The following notebook serves as a crash course in constructing a simple two-dimensional mesoscale atmospheric numerical model. To begin, we select a closed set of dynamical equations, in line with Klemp and Wilhelmson (1978; hereafter KW78). Necessary assumptions are stated to simplify the equations into a managble form to maximize both computational and educational applications. Pre-defined model configurations are presented (in an attempt) to ensure numerical stability. Equations are converted into finite-differences and then broken down into Python code to explicity demonstrate the construction of a numerical model. Additional resources will be provided in the future regarding varying model configurations and utilizing increasingly more realistic and complex model equations."
   ]
  },
  {
   "cell_type": "markdown",
   "metadata": {},
   "source": [
    "## Prerequisites\n",
    "\n",
    "| Concepts | Importance | Notes |\n",
    "| --- | --- | --- |\n",
    "| [NumPy Basics](https://foundations.projectpythia.org/core/numpy/numpy-basics.html) | Necessary | |\n",
    "| [Introduction to xarray](https://foundations.projectpythia.org/core/xarray/xarray-intro.html) | Helpful | Familiarity with coordinate-aware arrays |\n",
    "| Dynamical Meteorology | Helpful | |\n",
    "\n",
    "- **Time to learn**: Estimated 30 to 60 minutes."
   ]
  },
  {
   "cell_type": "markdown",
   "metadata": {},
   "source": [
    "---"
   ]
  },
  {
   "cell_type": "markdown",
   "metadata": {},
   "source": [
    "## Imports\n",
    "\n",
    "Here we'll be using a basic set of Python libraries, along with Numba for fast numerical routines. A helpful constants file is also imported, along side the code that controls the running of the model. (For those curious, these files can be viewed [here](./constants) and [here](./constants).)"
   ]
  },
  {
   "cell_type": "code",
   "execution_count": 1,
   "metadata": {},
   "outputs": [],
   "source": [
    "import numpy as np\n",
    "import numba\n",
    "import xarray as xr\n",
    "import matplotlib.pyplot as plt\n",
    "\n",
    "from constants import *\n",
    "from driver import ModelDriver"
   ]
  },
  {
   "cell_type": "markdown",
   "metadata": {},
   "source": [
    "## Basic Equations\n",
    "\n",
    "### Starting Equations (from WK78)\n",
    "\n",
    "#### Diagnostics\n",
    "    \n",
    "DEQ 1. Equation of State (2.1) \n",
    "$$\n",
    "p = \\rho R_{d} T\n",
    "$$ \n",
    "* $p$: Pressure\n",
    "* $\\rho$: Density\n",
    "* $R_{d}$: Specific gas constant for dry air\n",
    "* $T: Temperature\n",
    "<br>\n",
    "\n",
    "DEQ 2. Exner Function (2.2)\n",
    "$$\n",
    "\\Pi = (\\frac{p}{p_{0}})^\\frac{R_{d}}{c_{p}}\n",
    "$$\n",
    "* $\\Pi$: Non-Dimensional Pressure\n",
    "* $p$: Pressure\n",
    "* $p_{0}$: Reference Pressure\n",
    "* $R_{d}$: Specific gas constant for dry air\n",
    "* $c_{p}$: Specific heat at constant pressure    \n",
    "<br>\n",
    "\n",
    "\n",
    "#### Prognostics\n",
    "    \n",
    "PEQ 1-2. Momentum Equation (Zonal & Vertical; 2.4)\n",
    "$$\n",
    "\\underset{1}{\\frac{du_{i}}{dt}}+ \n",
    "\\underset{2}{c_{p} \\overline{\\theta_{v}} \\frac{\\partial \\pi}{\\partial x_{i}} }=\n",
    "\\underset{3}{\\delta_{i_{3}}} \n",
    "\\underset{4}{g}\\left[\n",
    "\\underset{5}{\\frac{\\theta}{\\overline{\\theta}} - 1}+\n",
    "\\underset{6}{0.61(q_{v}-\\overline{q_{v}})}-\n",
    "\\underset{7}{q_{c}-q_{r}}\\right]-\n",
    "\\underset{8}{\\epsilon_{ij_{3}}}fu_{i}+ \n",
    "\\underset{9}{D_{u_i}}\n",
    "$$\n",
    "\n",
    "1. Lagrangian of Wind\n",
    "2. PGF Term\n",
    "3. Kronecker Delta (i.e., the term that follows only appears form dimension 3, the vertical)\n",
    "4. Gravity\n",
    "5. Dry Buoyancy Contribution\n",
    "6. Moist Buoyancy Contribution\n",
    "7. Water Loading\n",
    "8. Coriolis Term\n",
    "9. Turblence Term\n",
    "\n",
    "<i>Derived via Navier-Stokes equations, along with DEQ1-2, Hydrostatic Function, and Linearized Pressure Term. Tensor Notation is used for simplicity.</i>\n",
    "<br> \n",
    " \n",
    "PEQ 3. Prognostic Equations (2.5)\n",
    "$$\n",
    "\\underset{1}{\\frac{d\\phi}{dt}}=\n",
    "\\underset{2}{M_{\\phi}}+ \n",
    "\\underset{3}{D_{\\phi}}\n",
    "$$\n",
    "\n",
    "1. Lagrangian of Prognositc Variable\n",
    "2. Microphysical Term \n",
    "3. Turbulence Term\n",
    "        \n",
    "<i>$\\phi$ is representative of either $\\theta, q_{v}, q_{r},$ or  $q_{c}$</i>\n",
    "<br>\n",
    "    \n",
    "PEQ 4. Pressure Equation (2.7a)\n",
    "$$\n",
    "\\underset{1}{\\frac{\\partial\\pi}{\\partial t}}+\n",
    "\\underset{2}{\\frac{ \\overline{c}^2}{c_{p}{\\overline\\rho\\overline{\\theta_{v}^2}}}\n",
    "{\\frac{\\partial}{\\partial x_{j}}(\\overline{\\rho}\\overline{\\theta_{v}}} u_{j})}=\n",
    "\\underset{3}{f_{\\pi}}\n",
    "$$\n",
    "\n",
    "1. Eularian of Pressure\n",
    "2. Pressure Adjustment Term\n",
    "3. Non-Relevant Terms for Sound & Gravity Waves (<i>See KW78 2.7b</i>)\n",
    "\n",
    "<i>Derived using Compressible Continuity & Thermodynamic Equations; Tensor Notation Used for Simplicity</i>"
   ]
  },
  {
   "cell_type": "markdown",
   "metadata": {},
   "source": [
    "### Assumptions and Simplification\n",
    "\n",
    "In this notebook we construct a two-dimensional, dry, and compressible atmospheric model that is broadly in line with KW78, though several assumptions and choice configurations were made to simplify the current model for computational and educational efficency.\n",
    "<br>\n",
    "1. We will only consider the zonal ($x$) and vertical ($z$) components.\n",
    "2. Base-state variables are a function of $z$ only, denoted by $\\overline{\\phi}$.\n",
    "3. Water-vapor is neglected (i.e, $q_{v}, q_{r}, q_{c} = 0$), so  $T_{v} = T$ and/or $\\theta_{v} = \\theta$.\n",
    "4. Coriolis force, microphysics, and Turbulence are also neglected(i.e., $f, M_{\\theta}, D_{\\theta} = 0$).     \n",
    "5. As in KW78, the $f_{\\pi}$ term in Pressure Equation (PEQ4-3) is neglected due to its negligible influences on convective-scale processes along with sound and gravity waves.\n",
    "6. Sub-Grid Processes require parameterizations in order to achieve model closure. For example, sub-grid turbulence is first obtained using Reynolds Averaged prognostic variables (i.e., breaking up variables into mean and turbulence components), and then must be parameterized using additional assumptions (such as the flux-gradient approach). \n",
    "7. The current test case is designed to have a calm and isentropic base-state (i.e., $\\frac{\\partial \\overline\\theta}{\\partial t}$ and  $\\overline{U} = 0$)"
   ]
  },
  {
   "cell_type": "markdown",
   "metadata": {},
   "source": [
    "### Final Prognostic Equations\n",
    "\n",
    "The afformentioned assumptions allowed for the derivation of the following simplified equations that serve as the foundation for the numerical model.\n",
    "<br> \n",
    "\n",
    "EQ1. Zonal Momentum Equation\n",
    "$$\n",
    "\\underset{1}{\\frac{du}{dt}}+\n",
    "\\underset{2}{c_{p} \\bar{\\theta} \\frac{\\partial \\pi}{\\partial x}}\n",
    "=0\n",
    "$$\n",
    "\n",
    "1. Lagrangian Derivative of Zonal Wind\n",
    "2. PGF Term\n",
    "<br>\n",
    "\n",
    "EQ2. Vertical Momentum Equation\n",
    "$$\n",
    "\\underset{1}{\\frac{dw}{dt}}+\n",
    "\\underset{2}{c_{p} \\bar{\\theta} \\frac{\\partial \\pi}{\\partial z}}= \n",
    "\\underset{3}{g\\left[\\frac{\\theta}{\\bar{\\theta}} - 1\\right]}\n",
    "$$\n",
    "\n",
    "1. Lagrangian Derivative of Vertical Wind\n",
    "2. PGF Term\n",
    "3. Dry Buoyancy Contribution\n",
    "<br>\n",
    "\n",
    "EQ3. Prognostic Equations\n",
    "$$\n",
    "\\underset{1}{\\frac{d\\theta}{dt}}\n",
    "=0\n",
    "$$\n",
    "\n",
    "1. Lagrangian Derivative of Potential Temperature\n",
    "<br>\n",
    "\n",
    "EQ4. Pressure Equation \n",
    "$$\n",
    "\\underset{1}{\\frac{\\partial\\pi}{\\partial t}}+ \n",
    "\\underset{2}{\\frac{\\overline{c}^2}{c_{p}\\overline{\\rho}\\overline{\\theta}^2}[\n",
    "\\frac{\\partial}{\\partial x}(\\overline{\\rho}\\overline{\\theta}u) +\n",
    "\\frac{\\partial}{\\partial z}(\\overline{\\rho}\\overline{\\theta}w)]} \n",
    "=0\n",
    "$$\n",
    "\n",
    "1. Eularian Derivative of Pressure\n",
    "2. Pressure Adjustment Terms"
   ]
  },
  {
   "cell_type": "markdown",
   "metadata": {},
   "source": [
    "## Model Configuration\n",
    "\n",
    "Summary: \n",
    "- The current test case was configured using a 32 x 20 $km^2$ grid, including by 160 zonal grid points (nx) and 100 vertical grid points (nz), with both the horizontal and vertical grid-spacing ($\\Delta x, \\Delta z$) set to 200 m. Equations are integrated using a 0.1 s time-step ($\\Delta t$).  \n",
    "<br>\n",
    "\n",
    "Domain (32 km x 20 km):\n",
    "- nx = 160\n",
    "- nz = 100\n",
    "- $dx, dz = 200 m$\n",
    "<br>\n",
    "\n",
    "Grid Type (Staggered Grid: C) (In/Around Box-Good for Advection)\n",
    "- Mass: Centered (i,k)\n",
    "- Velocity: Edges \n",
    "    - u (i +/- 1/2, k)\n",
    "    - w (i, k +/- 1/2)\n",
    "<br>\n",
    "\n",
    "<img src=\"../images/c-grid_example.svg\" width=500 alt=\"Visualization of the staggered offsets of a C grid. u momentum points exist to the left and right of the mass points, and w momentum points to the top and bottom.\"></img>\n",
    "\n",
    "<br>\n",
    "\n",
    "\n",
    "Boundary Conditions\n",
    "- Free-Slip Lower\n",
    "- Rigid Top \n",
    "- Periodic Lateral \n",
    "<br>\n",
    "\n",
    "Initial Conditions\n",
    "- P_surf = 950 hPa, with remainder of atmosphere determined via hydrostatic-balance\n",
    "- Theta = 300 K (isentropic)\n",
    "- Calm (u, w) = 0\n",
    "- CI: +3 K Warm Bubble $\\theta^{\\prime}$, with radius of 4 $km$ centered at $z = 2$ $km$. $p^{\\prime}$ (and thus $\\pi$) is adjusted accordingly.\n",
    "<br>\n"
   ]
  },
  {
   "cell_type": "markdown",
   "metadata": {},
   "source": [
    "## Discritization\n",
    "\n",
    "### General Approach\n",
    "\n",
    "The following space/time discritization methods were used to convert the model equations into a code-ready format.\n",
    "\n",
    "Centered Spatial Differencing, on a C-grid:\n",
    "$$\n",
    "\\frac{\\partial \\phi}{\\partial x_i} \\approx \\frac{\\phi_{i+\\frac{1}{2}} - \\phi_{i-\\frac{1}{2}}}{\\Delta x_i}\n",
    "$$  \n",
    "\n",
    "However, due to averaging, many of the formulations became equivalent to centered differencing on a non-staggered grid:\n",
    "\n",
    "$$\n",
    "\\frac{\\partial \\phi}{\\partial x_i} \\approx \\frac{\\phi_{i+1} - \\phi_{i-1}}{2 \\Delta x_i}\n",
    "$$ \n",
    "\n",
    "Leap-Frog Time Differencing:\n",
    "$$\n",
    "\\frac{\\partial \\phi}{\\partial t} \\approx \\frac{\\phi^{\\tau+1} - \\phi^{\\tau-1}}{2 \\Delta t}\n",
    "$$\n",
    "\n",
    "### Equation-by-Equation\n",
    "\n",
    "#### u-momentum\n",
    "\n",
    "Given our indexing notation, this equation is centered on the $(i + \\frac{1}{2}, k)$ point.\n",
    "\n",
    "u advection Term:\n",
    "$$\n",
    "u\\frac{\\partial u}{\\partial x} \\cong\n",
    "\\frac{1}{2\\Delta x}u_{i + \\frac{1}{2}, k}(u_{i + \\frac{3}{2}, k}-\n",
    "u_{i - \\frac{1}{2}, k})\n",
    "$$\n",
    "\n",
    "TODO: show full derivation, not just final equation\n",
    "\n",
    "To implement this in code, we must consider that the array indexes are whole numbers, and relative to the particular array. When we loop over the two spatial dimensions for $u$, this becomes:"
   ]
  },
  {
   "cell_type": "code",
   "execution_count": 3,
   "metadata": {},
   "outputs": [],
   "source": [
    "@numba.njit()\n",
    "def u_tendency_u_advection_term(u, dx):\n",
    "    term = np.zeros_like(u)\n",
    "    for k in range(1, u.shape[0] - 1):\n",
    "        for i in range(1, u.shape[1] - 1):\n",
    "            term[k, i] = u[k, i] * (u[k, i + 1] - u[k, i - 1]) / (2 * dx)\n",
    "    return term"
   ]
  },
  {
   "cell_type": "markdown",
   "metadata": {},
   "source": [
    "w advection term:\n",
    "\n",
    "$$\n",
    "w\\frac{\\partial u}{\\partial z} \\cong\n",
    "\\frac{1}{4}( w_{i + 1, k + \\frac{1}{2}} + w_{i + 1, k - \\frac{1}{2}} +\n",
    "w_{i, k + \\frac{1}{2}} + w_{i, k - \\frac{1}{2}})\n",
    "\\frac{1}{2\\Delta z}(u_{i + \\frac{1}{2}, k + 1} - u_{i + \\frac{1}{2}, k - 1} )\n",
    "$$\n",
    "\n",
    "TODO: show full derivation, not just final equation"
   ]
  },
  {
   "cell_type": "code",
   "execution_count": 4,
   "metadata": {},
   "outputs": [],
   "source": [
    "@numba.njit()\n",
    "def u_tendency_w_advection_term(u, w, dz):\n",
    "    term = np.zeros_like(u)\n",
    "    for k in range(1, u.shape[0] - 1):\n",
    "        for i in range(1, u.shape[1] - 1):\n",
    "            term[k, i] = 0.25 * (\n",
    "                w[k + 1, i] + w[k + 1, i - 1] + w[k, i] + w[k, i - 1] \n",
    "            ) * (u[k + 1, i] - u[k - 1, i]) / (2 * dz)\n",
    "    return term"
   ]
  },
  {
   "cell_type": "markdown",
   "metadata": {},
   "source": [
    "PGF Term:\n",
    "\n",
    "$$\n",
    "c_{p}\\bar{\\theta} \\frac{\\partial \\pi}{\\partial x} \\cong \n",
    "c_{p}\\bar{\\theta_{k}}\\frac{1}{\\Delta x}(\\pi_{i+1,k}-\\pi_{i,k} )\n",
    "$$"
   ]
  },
  {
   "cell_type": "code",
   "execution_count": 5,
   "metadata": {},
   "outputs": [],
   "source": [
    "@numba.njit()\n",
    "def u_tendency_pgf_term(u, pi, theta_base, dx):\n",
    "    term = np.zeros_like(u)\n",
    "    for k in range(1, u.shape[0] - 1):\n",
    "        for i in range(1, u.shape[1] - 1):\n",
    "            term[k, i] = c_p * theta_base[k] * (pi[k, i] - pi[k, i - 1]) / dx\n",
    "    return term"
   ]
  },
  {
   "cell_type": "markdown",
   "metadata": {},
   "source": [
    "Now, we can combine all these RHS terms, accounting for the negation/subtraction present in the full equation"
   ]
  },
  {
   "cell_type": "code",
   "execution_count": 6,
   "metadata": {},
   "outputs": [],
   "source": [
    "@numba.njit()\n",
    "def u_tendency(u, w, pi, theta_base, dx, dz):\n",
    "    return (\n",
    "        u_tendency_u_advection_term(u, dx)\n",
    "        + u_tendency_w_advection_term(u, w, dz)\n",
    "        + u_tendency_pgf_term(u, pi, theta_base, dx)\n",
    "    ) * -1"
   ]
  },
  {
   "cell_type": "markdown",
   "metadata": {},
   "source": [
    "#### w momentum\n",
    "\n",
    "Here, we proceed similarly\n",
    "\n",
    "u advection term:\n",
    "\n",
    "$$\n",
    "u\\frac{\\partial w}{\\partial x} = \n",
    "\\frac{1}{4}(u_{i + \\frac{1}{2}, k + 1} +\n",
    "u_{i + \\frac{1}{2}, k} + \n",
    "u_{i - \\frac{1}{2}, k +1} +\n",
    "u_{i - \\frac{1}{2}, k})\n",
    "\\frac{1}{2\\Delta x}(w_{i + 1, k + \\frac{1}{2}} - \n",
    "w_{i - 1, k + \\frac{1}{2}})\n",
    "$$\n",
    "\n",
    "TODO: full derivation"
   ]
  },
  {
   "cell_type": "code",
   "execution_count": 7,
   "metadata": {},
   "outputs": [],
   "source": [
    "@numba.njit()\n",
    "def w_tendency_u_advection_term(u, w, dx):\n",
    "    term = np.zeros_like(w)\n",
    "    for k in range(2, term.shape[0] - 2):\n",
    "        for i in range(1, term.shape[1] - 1):\n",
    "            term[k, i] = 0.25 * (\n",
    "                u[k, i] + u[k, i + 1] + u[k - 1, i] + u[k - 1, i + 1]  \n",
    "            ) * (w[k, i + 1] - w[k, i - 1]) / (2 * dx)\n",
    "    return term"
   ]
  },
  {
   "cell_type": "markdown",
   "metadata": {},
   "source": [
    "w advection term:\n",
    "\n",
    "$$\n",
    "w\\frac{\\partial w}{\\partial z}=\n",
    "w_{i, k + \\frac{1}{2}}\n",
    "\\frac{1}{2\\Delta z} (w_{i, k + \\frac{3}{2}} - w_{i-1, \\frac{1}{2}})\n",
    "$$\n",
    "\n",
    "TODO: full derivation"
   ]
  },
  {
   "cell_type": "code",
   "execution_count": 8,
   "metadata": {},
   "outputs": [],
   "source": [
    "@numba.njit()\n",
    "def w_tendency_w_advection_term(w, dz):\n",
    "    term = np.zeros_like(w)\n",
    "    for k in range(2, term.shape[0] - 2):\n",
    "        for i in range(1, term.shape[1] - 1):\n",
    "            term[k, i] = w[k, i] * (w[k + 1, i] - w[k - 1, i]) / (2 * dz)\n",
    "    return term"
   ]
  },
  {
   "cell_type": "markdown",
   "metadata": {},
   "source": [
    "PGF term:\n",
    "\n",
    "$$ \n",
    "c_{p}\\overline{\\theta}\\frac{\\partial \\pi}{\\partial z} =\n",
    "c_{p} \\frac{1}{2}( \\overline{\\theta}_{k+1} + \\overline{\\theta}_{k})\n",
    "\\frac{1}{\\Delta z}(\\pi_{i, k+1} - \\pi_{i,k})\n",
    "$$\n",
    "\n",
    "TODO: full derivation"
   ]
  },
  {
   "cell_type": "code",
   "execution_count": 9,
   "metadata": {},
   "outputs": [],
   "source": [
    "@numba.njit()\n",
    "def w_tendency_pgf_term(w, pi, theta_base, dz):\n",
    "    term = np.zeros_like(w)\n",
    "    for k in range(2, term.shape[0] - 2):\n",
    "        for i in range(1, term.shape[1] - 1):\n",
    "            term[k, i] = c_p * 0.5 * (theta_base[k] + theta_base[k - 1]) * (pi[k - 1, i] - pi[k, i]) / dz\n",
    "    return term"
   ]
  },
  {
   "cell_type": "markdown",
   "metadata": {},
   "source": [
    "Buoyancy Term:\n",
    "\n",
    "$$\n",
    "  g\\left[\\frac{\\theta^{\\prime}}{\\overline{\\theta}}\\right] =\n",
    "  g\\left[\\frac{\\theta_{i, k+1}^{\\prime} + \\theta_{i, k}^{\\prime}}{\\overline{\\theta}_{k+1}, \\overline{\\theta}_{k}}\\right]\n",
    "$$\n",
    "\n",
    "TODO: full derivation"
   ]
  },
  {
   "cell_type": "code",
   "execution_count": 10,
   "metadata": {},
   "outputs": [],
   "source": [
    "@numba.njit()\n",
    "def w_tendency_buoyancy_term(w, theta_p, theta_base):\n",
    "    term = np.zeros_like(w)\n",
    "    for k in range(2, term.shape[0] - 2):\n",
    "        for i in range(1, term.shape[1] - 1):\n",
    "            term[k, i] = gravity * (theta_p[k, i] + theta_p[k - 1, i]) / (theta_base[k] + theta_base[k - 1]) \n",
    "    return term"
   ]
  },
  {
   "cell_type": "markdown",
   "metadata": {},
   "source": [
    "Which, in combination, becomes:"
   ]
  },
  {
   "cell_type": "code",
   "execution_count": 11,
   "metadata": {},
   "outputs": [],
   "source": [
    "@numba.njit()\n",
    "def w_tendency(u, w, pi, theta_p, theta_base, dx, dz):\n",
    "    return (\n",
    "        w_tendency_u_advection_term(u, w, dx) * -1.0\n",
    "        - w_tendency_w_advection_term(w, dz)\n",
    "        - w_tendency_pgf_term(w, pi, theta_base, dz)\n",
    "        + w_tendency_buoyancy_term(w, theta_p, theta_base)\n",
    "    )"
   ]
  },
  {
   "cell_type": "markdown",
   "metadata": {},
   "source": [
    "#### Theta tendency equation\n",
    "\n",
    "u advection term:\n",
    "\n",
    "$$\n",
    "       u\\frac{\\partial \\theta^{\\prime}}{\\partial x} = \n",
    "       \\frac{1}{2}(u_{i+\\frac{1}{2}, k} + u_{i-\\frac{1}{2}})\n",
    "       \\frac{1}{2\\Delta x}(\\theta_{i+1,k}^{\\prime}-\\theta_{i-1,k}^{\\prime})\n",
    "     $$"
   ]
  },
  {
   "cell_type": "code",
   "execution_count": 12,
   "metadata": {},
   "outputs": [],
   "source": [
    "@numba.njit()\n",
    "def theta_p_tendency_u_advection_term(u, theta_p, dx):\n",
    "    term = np.zeros_like(theta_p)\n",
    "    for k in range(1, theta_p.shape[0] - 1):\n",
    "        for i in range(1, theta_p.shape[1] - 1):\n",
    "            term[k, i] = (\n",
    "                (u[k, i + 1] + u[k, i]) / 2\n",
    "                * (theta_p[k, i + 1] - theta_p[k, i - 1]) / (2 * dx)\n",
    "            )\n",
    "    return term"
   ]
  },
  {
   "cell_type": "markdown",
   "metadata": {},
   "source": [
    "w advection of theta perturbation:\n",
    "\n",
    "$$\n",
    "       w\\frac{\\partial \\theta^{\\prime}}{\\partial z} = \n",
    "       \\frac{1}{2}(w_{i+\\frac{1}{2}, k} + w_{i-\\frac{1}{2}})\n",
    "       \\frac{1}{2\\Delta z}(\\theta_{i,k+1}^{\\prime}-\\theta_{i,k-1}^{\\prime})\n",
    "     $$"
   ]
  },
  {
   "cell_type": "code",
   "execution_count": 13,
   "metadata": {},
   "outputs": [],
   "source": [
    "@numba.njit()\n",
    "def theta_p_tendency_w_advection_of_perturbation_term(w, theta_p, dz):\n",
    "    term = np.zeros_like(theta_p)\n",
    "    for k in range(1, theta_p.shape[0] - 1):\n",
    "        for i in range(1, theta_p.shape[1] - 1):\n",
    "            term[k, i] = (\n",
    "                (w[k + 1, i] + w[k, i]) / 2\n",
    "                * (theta_p[k + 1, i] - theta_p[k - 1, i]) / (2 * dz)\n",
    "            )\n",
    "    return term"
   ]
  },
  {
   "cell_type": "markdown",
   "metadata": {},
   "source": [
    "w advection of theta base state:\n",
    "\n",
    "$$\n",
    "   w\\frac{\\partial \\overline{\\theta}}{\\partial z} = \n",
    "   \\frac{1}{2}(w_{i, k+\\frac{1}{2}} + w_{i,k\\frac{1}{2}})\n",
    "   \\frac{1}{2\\Delta z}(\\overline{\\theta}_{k+1}-\\overline\\theta_{k-1})\n",
    " $$"
   ]
  },
  {
   "cell_type": "code",
   "execution_count": 14,
   "metadata": {},
   "outputs": [],
   "source": [
    "@numba.njit()\n",
    "def theta_p_tendency_w_advection_of_base_term(w, theta_p, theta_base, dz):\n",
    "    term = np.zeros_like(theta_p)\n",
    "    for k in range(1, theta_p.shape[0] - 1):\n",
    "        for i in range(1, theta_p.shape[1] - 1):\n",
    "            term[k, i] = (\n",
    "                (w[k + 1, i] + w[k, i]) / 2\n",
    "                * (theta_base[k + 1] - theta_base[k - 1]) / (2 * dz)\n",
    "            )\n",
    "    return term"
   ]
  },
  {
   "cell_type": "markdown",
   "metadata": {},
   "source": [
    "Combining, becomes:"
   ]
  },
  {
   "cell_type": "code",
   "execution_count": 15,
   "metadata": {},
   "outputs": [],
   "source": [
    "@numba.njit()\n",
    "def theta_p_tendency(u, w, theta_p, theta_base, dx, dz):\n",
    "    return (\n",
    "        theta_p_tendency_u_advection_term(u, theta_p, dx)\n",
    "        + theta_p_tendency_w_advection_of_perturbation_term(w, theta_p, dz)\n",
    "        + theta_p_tendency_w_advection_of_base_term(w, theta_p, theta_base, dz)\n",
    "    ) * -1"
   ]
  },
  {
   "cell_type": "markdown",
   "metadata": {},
   "source": [
    "#### Non-dimensional Pressure Tendency\n",
    "\n",
    "Based on the treatment by KW78, this equation expressed with a leading factor (which has $k$-index dependence) and two interior terms (which have finite differences). We express these together as:\n",
    "\n",
    "\\begin{align*}\n",
    "-\\frac{\\bar{c}^2}{c_p \\bar{\\rho}_k \\bar{\\theta}_k^2}\\bigg[ &\\bar{\\rho}_k \\bar{\\theta}_k \\frac{1}{\\Delta x} \\left(u_{i + \\frac{1}{2}, k} - u_{i - \\frac{1}{2}, k}\\right) \\\\\n",
    "\\quad\\quad &+ \\frac{1}{2}\\left(w_{i, k+\\frac{1}{2}} + w_{i, k-\\frac{1}{2}}\\right) \\frac{1}{2\\Delta z} \\left(\\bar{\\rho}_{k+1} \\bar{\\theta}_{k+1} - \\bar{\\rho}_{k-1} \\bar{\\theta}_{k-1}\\right) \\\\\n",
    "\\quad\\quad &+ \\bar{\\rho}_k \\bar{\\theta}_k \\frac{1}{\\Delta z} \\left(w_{i , k+ \\frac{1}{2}} - w_{i, k - \\frac{1}{2}}\\right)\\bigg]\n",
    "\\end{align*}"
   ]
  },
  {
   "cell_type": "code",
   "execution_count": 16,
   "metadata": {},
   "outputs": [],
   "source": [
    "@numba.njit()\n",
    "def pi_tendency(u, w, pi, theta_base, rho_base, c_s_sqr, dx, dz):\n",
    "    term = np.zeros_like(pi)\n",
    "    for k in range(1, pi.shape[0] - 1):\n",
    "        for i in range(1, pi.shape[1] - 1):\n",
    "            term[k, i] = (\n",
    "                -1 * (c_s_sqr / (c_p * rho_base[k] * theta_base[k]**2))\n",
    "                * (\n",
    "                    (rho_base[k] * theta_base[k] * (u[k, i + 1] - u[k, i]) / dx)\n",
    "                    + (\n",
    "                        (w[k + 1, i] + w[k, i]) / 2\n",
    "                        * (rho_base[k + 1] * theta_base[k + 1] - rho_base[k - 1] * theta_base[k - 1]) / (2 * dz)\n",
    "                    )\n",
    "                    + (rho_base[k] * theta_base[k] * (w[k + 1, i] - w[k, i]) / dz)\n",
    "                )\n",
    "            )\n",
    "    return term"
   ]
  },
  {
   "cell_type": "markdown",
   "metadata": {},
   "source": [
    "## Running the Model\n",
    "\n",
    "We are now ready to set up and run the model!\n",
    "\n",
    "### Setup\n",
    "\n",
    "To start, we initialize the model driver class (see the [`driver.py`](./driver) if interested in the details) using our aforementioned model options, and plugging in our tendency equations written above). We then add in the initial base state and perturbations, so that the model has something to simulate. Finally, we export the initial state to inspect later:"
   ]
  },
  {
   "cell_type": "code",
   "execution_count": 17,
   "metadata": {},
   "outputs": [],
   "source": [
    "# Set up model\n",
    "model = ModelDriver(\n",
    "    nx=160, nz=100, dx=200., dz=200., dt=0.01, c_s_sqr=50.0**2,\n",
    "    u_tendency=u_tendency, w_tendency=w_tendency, theta_p_tendency=theta_p_tendency, pi_tendency=pi_tendency\n",
    ")\n",
    "model.initialize_isentropic_base_state(300., 9.5e4)\n",
    "model.initialize_warm_bubble(3.0, 4.0e3, 4.0e3, 2.0e3)\n",
    "\n",
    "# Start saving results\n",
    "results = []\n",
    "results.append(model.current_state())"
   ]
  },
  {
   "cell_type": "markdown",
   "metadata": {},
   "source": [
    "We can quickly preview what this initial warm bubble looks like using xarray:"
   ]
  },
  {
   "cell_type": "code",
   "execution_count": 51,
   "metadata": {},
   "outputs": [
    {
     "data": {
      "text/plain": [
       "<matplotlib.image.AxesImage at 0x135a94290>"
      ]
     },
     "execution_count": 51,
     "metadata": {},
     "output_type": "execute_result"
    },
    {
     "data": {
      "image/png": "[encoded data removed]",
      "text/plain": [
       "<Figure size 640x480 with 2 Axes>"
      ]
     },
     "metadata": {},
     "output_type": "display_data"
    }
   ],
   "source": [
    "results[0]['theta_p'][0].plot.imshow(vmin=-3, vmax=3, cmap='RdBu_r')"
   ]
  },
  {
   "cell_type": "markdown",
   "metadata": {},
   "source": [
    "#### Running the model forward in time\n",
    "\n",
    "Now, we can actually start integrating in time. At the first timestep, we don't have the data to use leapfrog integration, so we need a special first timestep that does an forward-in-time approach (also known as Euler forward differencing):"
   ]
  },
  {
   "cell_type": "code",
   "execution_count": 19,
   "metadata": {},
   "outputs": [],
   "source": [
    "# Integrate the model, saving after desired timestep counts\n",
    "model.take_first_timestep()\n",
    "results.append(model.current_state())"
   ]
  },
  {
   "cell_type": "markdown",
   "metadata": {},
   "source": [
    "TODO: fix/adjust approach later\n",
    "\n",
    "Now, the model (as written above) has been found to have a numerical instability that causes the model to \"explode\" within 30 seconds of simulated time. To showcase how such a model can go wrong, we save results every timestep, as follows:"
   ]
  },
  {
   "cell_type": "code",
   "execution_count": 20,
   "metadata": {},
   "outputs": [],
   "source": [
    "for _ in range(3000):\n",
    "    model.integrate(1)\n",
    "    results.append(model.current_state())\n",
    "\n",
    "# Merge results\n",
    "ds = xr.concat(results, 't')"
   ]
  },
  {
   "cell_type": "markdown",
   "metadata": {},
   "source": [
    "TODO: add holoviews visualization of \"what's going wrong\"\n",
    "\n"
   ]
  },
  {
   "cell_type": "markdown",
   "metadata": {},
   "source": [
    "---"
   ]
  },
  {
   "cell_type": "markdown",
   "metadata": {},
   "source": [
    "## Summary\n",
    "\n",
    "The preceding cookbook provided a crash-course on the development of a 2-D Mesoscale Numerical Model, starting with the basic dynamical equations through the conversion to computer code and ultimately model integration. This pre-configured \"test-case\" is intended to be used for educational purposes only. Though note that all the assumptions/configurations used herein may not be applicable for other situations. Future notebooks are to be included, demonstrating how various configurations (i.e., equation simplifications, discritization schemes, boundary conditions, grid styles, and spatiotemporal resolutions) all influences the performance and accuracy of the resultant output. Additionally, we plan to include explicit walk-throughs regarding stability analyses, corrections, and filtering techniques. Check-in regularly for updates to this Cookbook.\n",
    "\n",
    "### What's next?\n",
    "\n",
    "TODO: reference later portions\n",
    "\n",
    "<!--Let Jupyter book tie this to the next (sequential) piece of content that people could move on to down below and in the sidebar. However, if this page uniquely enables your reader to tackle other nonsequential concepts throughout this book, or even external content, link to it here!-->"
   ]
  },
  {
   "cell_type": "markdown",
   "metadata": {},
   "source": [
    "## Resources and references\n",
    "\n",
    "TODO: add these\n",
    "\n",
    "<!--\n",
    "Finally, be rigorous in your citations and references as necessary. Give credit where credit is due. Also, feel free to link to relevant external material, further reading, documentation, etc. Then you're done! Give yourself a quick review, a high five, and send us a pull request. A few final notes:\n",
    " - `Kernel > Restart Kernel and Run All Cells...` to confirm that your notebook will cleanly run from start to finish\n",
    " - `Kernel > Restart Kernel and Clear All Outputs...` before committing your notebook, our machines will do the heavy lifting\n",
    " - Take credit! Provide author contact information if you'd like; if so, consider adding information here at the bottom of your notebook\n",
    " - Give credit! Attribute appropriate authorship for referenced code, information, images, etc.\n",
    " - Only include what you're legally allowed: **no copyright infringement or plagiarism**\n",
    " \n",
    "Thank you for your contribution!\n",
    "-->"
   ]
  }
 ],
 "metadata": {
  "kernelspec": {
   "display_name": "Python 3 (ipykernel)",
   "language": "python",
   "name": "python3"
  },
  "language_info": {
   "codemirror_mode": {
    "name": "ipython",
    "version": 3
   },
   "file_extension": ".py",
   "mimetype": "text/x-python",
   "name": "python",
   "nbconvert_exporter": "python",
   "pygments_lexer": "ipython3",
   "version": "3.11.6"
  },
  "nbdime-conflicts": {
   "local_diff": [
    {
     "diff": [
      {
       "diff": [
        {
         "key": 0,
         "op": "addrange",
         "valuelist": [
          "Python 3"
         ]
        },
        {
         "key": 0,
         "length": 1,
         "op": "removerange"
        }
       ],
       "key": "display_name",
       "op": "patch"
      }
     ],
     "key": "kernelspec",
     "op": "patch"
    }
   ],
   "remote_diff": [
    {
     "diff": [
      {
       "diff": [
        {
         "key": 0,
         "op": "addrange",
         "valuelist": [
          "Python3"
         ]
        },
        {
         "key": 0,
         "length": 1,
         "op": "removerange"
        }
       ],
       "key": "display_name",
       "op": "patch"
      }
     ],
     "key": "kernelspec",
     "op": "patch"
    }
   ]
  },
  "toc-autonumbering": false
 },
 "nbformat": 4,
 "nbformat_minor": 4
}
