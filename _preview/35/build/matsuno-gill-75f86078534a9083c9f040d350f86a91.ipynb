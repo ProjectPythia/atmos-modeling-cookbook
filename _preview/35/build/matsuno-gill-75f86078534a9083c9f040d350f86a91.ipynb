{
 "cells": [
  {
   "cell_type": "markdown",
   "id": "8c55cbb1",
   "metadata": {},
   "source": [
    "# Gill-Matsuno model\n",
    "\n",
    "The Gill-Matsuno model is a classical atmospheric model that describes the tropical atmospheric response to a prescribed heating. It consists of 3 prognostic variables $u$, $v$, and $T$ in an equatorial beta-plane approximation. The non-dimensional form of the equations is given by:\n",
    "\n",
    "$$\n",
    "\\frac{\\partial u}{\\partial t} + eu - \\frac{1}{2} yv = -\\frac{\\partial \\phi}{\\partial x}\n",
    "$$\n",
    "$$\n",
    "\\frac{\\partial v}{\\partial t} + ev + \\frac{1}{2} xu = -\\frac{\\partial \\phi}{\\partial y}\n",
    "$$\n",
    "$$\n",
    "\\frac{\\partial \\phi}{\\partial t} + e\\phi + \\frac{\\partial u}{\\partial x} + \\frac{\\partial v}{\\partial y} = Q\n",
    "$$\n",
    "\n",
    "For the Gill-Matsuno model, we look for the steady-state solution, which means we set the time derivatives to zero, further simplifying the equations. This set of equations represents the balance between the horizontal momentum equations and the continuity equation in the context of a tropical atmosphere.\n",
    "\n",
    "$$\n",
    "eu - \\frac{1}{2} yv = -\\frac{\\partial \\phi}{\\partial x}\n",
    "$$\n",
    "$$\n",
    "ev + \\frac{1}{2} xu = -\\frac{\\partial \\phi}{\\partial y}\n",
    "$$\n",
    "$$\n",
    "e\\phi + \\frac{\\partial u}{\\partial x} + \\frac{\\partial v}{\\partial y} = Q\n",
    "$$\n"
   ]
  },
  {
   "cell_type": "markdown",
   "id": "a920d8cd",
   "metadata": {},
   "source": []
  }
 ],
 "metadata": {
  "language_info": {
   "name": "python"
  }
 },
 "nbformat": 4,
 "nbformat_minor": 5
}
