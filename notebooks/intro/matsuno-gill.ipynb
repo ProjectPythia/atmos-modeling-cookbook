{
 "cells": [
  {
   "cell_type": "markdown",
   "id": "e31b4ace-f5c6-4cfd-94c3-8ed2f36c8c81",
   "metadata": {},
   "source": [
    "# Gill-Matsuno Model"
   ]
  },
  {
   "cell_type": "code",
   "execution_count": null,
   "id": "4a34de13-279f-4c7a-8f33-8a218f4c0d86",
   "metadata": {},
   "outputs": [],
   "source": []
  }
 ],
 "metadata": {
  "kernelspec": {
   "display_name": "Python 3 (ipykernel)",
   "language": "python",
   "name": "python3"
  },
  "language_info": {
   "codemirror_mode": {
    "name": "ipython",
    "version": 3
   },
   "file_extension": ".py",
   "mimetype": "text/x-python",
   "name": "python",
   "nbconvert_exporter": "python",
   "pygments_lexer": "ipython3",
   "version": "3.10.16"
  }
 },
 "nbformat": 4,
 "nbformat_minor": 5
}
