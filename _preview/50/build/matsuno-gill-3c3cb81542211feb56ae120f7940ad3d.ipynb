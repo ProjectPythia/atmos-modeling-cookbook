{
 "cells": [
  {
   "cell_type": "markdown",
   "id": "8c55cbb1",
   "metadata": {},
   "source": [
    "# Gill-Matsuno model\n",
    "\n",
    "The Gill-Matsuno model is a classical atmospheric model that describes the tropical atmospheric response to a prescribed heating. It consists of 3 prognostic variables $u$, $v$, and $p$ in an equatorial beta-plane approximation. The non-dimensional form of the equations is given by:\n",
    "\n",
    "$$\n",
    "\\label{gill_matsuno_base}\n",
    "\\frac{\\partial u}{\\partial t} + \\epsilon u - \\frac{1}{2} yv = -\\frac{\\partial p}{\\partial x}\n",
    "\\\\\n",
    "\\frac{\\partial v}{\\partial t} + \\epsilon v + \\frac{1}{2} yu = -\\frac{\\partial p}{\\partial y}\n",
    "\\\\\n",
    "\\frac{\\partial p}{\\partial t} + \\epsilon p + \\frac{\\partial u}{\\partial x} + \\frac{\\partial v}{\\partial y} = -Q\n",
    "$$\n",
    "\n",
    "This cookbook aims to reproduce the results of the classical Gill-Matsuno model experiment in different forcing scenarios. The model is set up on a grid with prescribed parameters, and the forcing function $Q$ is defined to represent the heating in the atmosphere. Here we will explore the steady-state solution of the set of equations outline above, which is often used to analyze the tropical atmospheric dynamics in a simplified manner.\n",
    "\n",
    "## Imports"
   ]
  },
  {
   "cell_type": "code",
   "execution_count": null,
   "id": "64e6a180",
   "metadata": {},
   "outputs": [],
   "source": [
    "import time\n",
    "\n",
    "import holoviews as hv\n",
    "import hvplot.xarray\n",
    "import matplotlib.pyplot as plt\n",
    "import numba\n",
    "import numpy as np\n",
    "import xarray as xr\n",
    "\n",
    "hv.output(widget_location=\"top\")"
   ]
  },
  {
   "cell_type": "markdown",
   "id": "3c74fc69",
   "metadata": {},
   "source": [
    "## Discretization\n",
    "The numerical scheme used to solve the equations is a forward-in-time, centered-in-space finite difference method. The steady-state solution of the system will be reached by model convergence after a sufficient number of time steps. Solving for $\\partial / \\partial t$, equation [](#gill_matsuno_base) becomes:\n",
    "\n",
    "$$\n",
    "\\label{gill_matsuno_discretization_u}\n",
    "\\frac{\\partial u}{\\partial t} = -\\frac{\\partial p}{\\partial x} - \\epsilon u + \\frac{1}{2} yv\n",
    "$$\n",
    "$$\n",
    "\\label{gill_matsuno_discretization_v}\n",
    "\\frac{\\partial v}{\\partial t} = -\\frac{\\partial p}{\\partial y} - \\epsilon v - \\frac{1}{2} yu\n",
    "$$\n",
    "$$\n",
    "\\label{gill_matsuno_discretization_p}\n",
    "\\frac{\\partial p}{\\partial t} = -Q - \\epsilon p - ( \\frac{\\partial u}{\\partial x} + \\frac{\\partial v}{\\partial y} )\n",
    "$$\n",
    "\n",
    "We will shift our focus to the terms that need discretization first\n",
    "\n",
    "### Pressure Gradient Force (PGF)\n",
    "The first term on the RHS of [](#gill_matsuno_discretization_u) and [](#gill_matsuno_discretization_v) represents the pressure gradient force. The discretization of this term looks as follow:\n",
    "\n",
    "$$\n",
    "-\\frac{\\partial p}{\\partial x} \\approx -\\frac{p^{\\tau}_{i+1,j} - p^{\\tau}_{i-1,j}}{2\\Delta x}\n",
    "$$\n",
    "\n",
    "$$\n",
    "-\\frac{\\partial p}{\\partial y} \\approx -\\frac{p^{\\tau}_{i,j+1} - p^{\\tau}_{i,j-1}}{2\\Delta y}\n",
    "$$"
   ]
  },
  {
   "cell_type": "code",
   "execution_count": null,
   "id": "04f865fc",
   "metadata": {},
   "outputs": [],
   "source": [
    "@numba.njit\n",
    "def pressure_gradient_x(p, dx):\n",
    "    \"\"\"Calculates the pressure gradient in the x-direction.\"\"\"\n",
    "    term = np.zeros_like(p)\n",
    "    for i in range(1, p.shape[0] - 1):\n",
    "        for j in range(1, p.shape[1] - 1):\n",
    "            term[i, j] = -(p[i + 1, j] - p[i - 1, j]) / (2 * dx)\n",
    "    return term\n",
    "\n",
    "\n",
    "@numba.njit\n",
    "def pressure_gradient_y(p, dy):\n",
    "    \"\"\"Calculates the pressure gradient in the y-direction.\"\"\"\n",
    "    term = np.zeros_like(p)\n",
    "    for i in range(1, p.shape[0] - 1):\n",
    "        for j in range(1, p.shape[1] - 1):\n",
    "            term[i, j] = -(p[i, j + 1] - p[i, j - 1]) / (2 * dy)\n",
    "    return term"
   ]
  },
  {
   "cell_type": "markdown",
   "id": "3de13cd8",
   "metadata": {},
   "source": [
    "### Divergence\n",
    "\n",
    "The third term on the RHS of [](#gill_matsuno_discretization_p) represents the divergence of the velocity field. The discretization of this term looks as follow:\n",
    "\n",
    "$$\n",
    "-( \\frac{\\partial u}{\\partial x} + \\frac{\\partial v}{\\partial y} ) \\approx -\\frac{u^{\\tau}_{i+1,j} - u^{\\tau}_{i-1,j}}{2\\Delta x} - \\frac{v^{\\tau}_{i,j+1} - v^{\\tau}_{i,j-1}}{2\\Delta y}\n",
    "$$"
   ]
  },
  {
   "cell_type": "code",
   "execution_count": null,
   "id": "b06f9df8",
   "metadata": {},
   "outputs": [],
   "source": [
    "@numba.njit\n",
    "def divergence(u, v, dx, dy):\n",
    "    \"\"\"Calculates the divergence for the pressure equation.\"\"\"\n",
    "    term = np.zeros_like(u)\n",
    "    for i in range(1, u.shape[0] - 1):\n",
    "        for j in range(1, u.shape[1] - 1):\n",
    "            du_dx = (u[i + 1, j] - u[i - 1, j]) / (2 * dx)\n",
    "            dv_dy = (v[i, j + 1] - v[i, j - 1]) / (2 * dy)\n",
    "            term[i, j] = -(du_dx + dv_dy)\n",
    "    return term"
   ]
  },
  {
   "cell_type": "markdown",
   "id": "473cef9d",
   "metadata": {},
   "source": [
    "### Damping\n",
    "The Gill-Matsuno model includes a damping term to account for dissipative processes in the atmosphere. This is given by the $\\epsilon$ parameter found as the second term of the RHS of [](#gill_matsuno_discretization_u), [](#gill_matsuno_discretization_v), and [](#gill_matsuno_discretization_p) that does not involve any derivatives.\n",
    "\n",
    "$$\n",
    "-\\epsilon u \\approx -\\epsilon u^{\\tau}_{i,j}\n",
    "\\\\\n",
    "-\\epsilon v \\approx -\\epsilon v^{\\tau}_{i,j}\n",
    "\\\\\n",
    "-\\epsilon p \\approx -\\epsilon p^{\\tau}_{i,j}\n",
    "$$"
   ]
  },
  {
   "cell_type": "code",
   "execution_count": null,
   "id": "be90c150",
   "metadata": {},
   "outputs": [],
   "source": [
    "@numba.njit\n",
    "def damping(field, epsilon):\n",
    "    \"\"\"Calculates the damping for a given field.\"\"\"\n",
    "    return -epsilon * field"
   ]
  },
  {
   "cell_type": "markdown",
   "id": "caed609f",
   "metadata": {},
   "source": [
    "### Coriolis\n",
    "\n",
    "In the equatorial beta-plane approximation, the non-dimensional form of the Coriolis term is given by the last term on the RHS of equations [](#gill_matsuno_discretization_u) and [](#gill_matsuno_discretization_v). It is represented as follows:\n",
    "\n",
    "$$\n",
    "\\frac{1}{2} yv = \\frac{1}{2} y v^{\\tau}_{i,j}\n",
    "$$\n",
    "\n",
    "The expression for [](#gill_matsuno_discretization_v) is equivalent but with $u$ instead of $v$ and of negative sign.\n"
   ]
  },
  {
   "cell_type": "code",
   "execution_count": null,
   "id": "581803be",
   "metadata": {},
   "outputs": [],
   "source": [
    "@numba.njit\n",
    "def coriolis_term(field, yy, sign=1):\n",
    "    \"\"\"Calculates the Coriolis term\"\"\"\n",
    "    return 0.5 * yy * field * sign"
   ]
  },
  {
   "cell_type": "markdown",
   "id": "61e21c3d",
   "metadata": {},
   "source": [
    "### Heating\n",
    "\n",
    "The heating rate $Q$ on equation [](#gill_matsuno_discretization_p) is used to study the heat-induced tropical circulation response on a resting atmosphere. The function `create_heating` generates a 2D heating field that can be used in the model."
   ]
  },
  {
   "cell_type": "code",
   "execution_count": null,
   "id": "8564482e",
   "metadata": {},
   "outputs": [],
   "source": [
    "def create_heating(xx, yy):\n",
    "    \"\"\"\n",
    "    Creates a 2D localized, symmetric heating function (Q).\n",
    "    \"\"\"\n",
    "    Q = np.zeros_like(xx)\n",
    "    L_forcing = 2.0\n",
    "\n",
    "    # Define a mask for where the heating is active\n",
    "    heating_mask = (xx > 4 * L_forcing) & (xx < 6 * L_forcing)\n",
    "\n",
    "    # Calculate the heating within the masked region\n",
    "    Q[heating_mask] = -(\n",
    "        np.sin(np.pi / (2 * L_forcing) * xx[heating_mask])\n",
    "        * np.exp(-0.25 * yy[heating_mask] ** 2)\n",
    "    )\n",
    "    da = xr.DataArray(\n",
    "        Q, dims=(\"x\", \"y\"), coords={\"x\": xx[:, 0], \"y\": yy[0, :]}, name=\"Q\"\n",
    "    )\n",
    "    return da"
   ]
  },
  {
   "cell_type": "markdown",
   "id": "ed953394",
   "metadata": {},
   "source": [
    "### Boundary Conditions\n",
    "\n",
    "Before putting everything together, we need to define the boundary conditions for our system. These conditions will ensure that our model behaves correctly at the edges of the computational domain. Here we implement the periodic boundary conditions in the zonal direction with a zero-gradient meridional boundary condition."
   ]
  },
  {
   "cell_type": "code",
   "execution_count": null,
   "id": "71beb3f6",
   "metadata": {},
   "outputs": [],
   "source": [
    "@numba.njit\n",
    "def apply_boundary_conditions(u, v, p):\n",
    "    \"\"\"\n",
    "    Applies periodic zonal and zero-gradient meridional boundary conditions.\n",
    "    \"\"\"\n",
    "    # Periodic in x (zonal)\n",
    "    u[0, :], u[-1, :] = u[-2, :], u[1, :]\n",
    "    v[0, :], v[-1, :] = v[-2, :], v[1, :]\n",
    "    p[0, :], p[-1, :] = p[-2, :], p[1, :]\n",
    "\n",
    "    # Zero-gradient in y (meridional)\n",
    "    u[:, 0], u[:, -1] = u[:, 1], u[:, -2]\n",
    "    v[:, 0], v[:, -1] = v[:, 1], v[:, -2]\n",
    "    p[:, 0], p[:, -1] = p[:, 1], p[:, -2]\n",
    "\n",
    "    return u, v, p"
   ]
  },
  {
   "cell_type": "markdown",
   "id": "f6f4cb47",
   "metadata": {},
   "source": [
    "### Tendency\n",
    "\n",
    "Now that we have defined all the RHS terms, we can express the time tendency terms for the set of equations [](#gill_matsuno_discretization_u), [](#gill_matsuno_discretization_v), and [](#gill_matsuno_discretization_p) in a forward scheme as follows:\n",
    "\n",
    "$$\n",
    "u^{\\tau+1} = u^\\tau + \\Delta t \\frac{\\partial u}{\\partial t}\n",
    "\\\\\n",
    "v^{\\tau+1} = v^\\tau + \\Delta t \\frac{\\partial v}{\\partial t}\n",
    "\\\\\n",
    "p^{\\tau+1} = p^\\tau + \\Delta t \\frac{\\partial p}{\\partial t}\n",
    "$$\n",
    "\n",
    "Which relates the next time step to the current state of the system. The time derivatives in this equation have already been discretized and can be expressed as follow\n",
    "\n",
    "$$\n",
    "\\frac{\\partial u}{\\partial t} = PGF + Damping + Coriolis\n",
    "\\\\\n",
    "\\frac{\\partial v}{\\partial t} = PGF + Damping + Coriolis\n",
    "\\\\\n",
    "\\frac{\\partial p}{\\partial t} = Heating + Damping + Divergence\n",
    "$$\n",
    "\n",
    "The solver loop takes all of the above equations and iteratively updates the state of the system at each time step. This process continues until the desired simulation time is reached."
   ]
  },
  {
   "cell_type": "code",
   "execution_count": null,
   "id": "2b6d2b63",
   "metadata": {},
   "outputs": [],
   "source": [
    "@numba.njit\n",
    "def numba_solver_loop(u, v, p, Q, yy, params_tuple):\n",
    "    \"\"\"\n",
    "    Performs the time-stepping\n",
    "    \"\"\"\n",
    "    # Unpack parameters\n",
    "    dt, dx, dy, eps_u, eps_v, eps_p, num_steps = params_tuple\n",
    "\n",
    "    # Time-stepping loop\n",
    "    for tau in range(num_steps - 1):\n",
    "        # Get the current state (a 2D slice)\n",
    "        u_tau, v_tau, p_tau = u[tau, :, :], v[tau, :, :], p[tau, :, :]\n",
    "\n",
    "        # Calculate full tendency fields using the current state\n",
    "        du_dt = (\n",
    "            damping(u_tau, eps_u)\n",
    "            + coriolis_term(v_tau, yy, 1)\n",
    "            + pressure_gradient_x(p_tau, dx)\n",
    "        )\n",
    "        dv_dt = (\n",
    "            damping(v_tau, eps_v)\n",
    "            + coriolis_term(u_tau, yy, -1)\n",
    "            + pressure_gradient_y(p_tau, dy)\n",
    "        )\n",
    "        dp_dt = damping(p_tau, eps_p) + divergence(u_tau, v_tau, dx, dy) + Q\n",
    "\n",
    "        # Update the NEXT time slice in the main arrays\n",
    "        u[tau + 1, :, :] = u_tau + du_dt * dt\n",
    "        v[tau + 1, :, :] = v_tau + dv_dt * dt\n",
    "        p[tau + 1, :, :] = p_tau + dp_dt * dt\n",
    "\n",
    "        # Apply Boundary Conditions\n",
    "        u[tau + 1, :, :], v[tau + 1, :, :], p[tau + 1, :, :] = (\n",
    "            apply_boundary_conditions(\n",
    "                u[tau + 1, :, :], v[tau + 1, :, :], p[tau + 1, :, :]\n",
    "            )\n",
    "        )"
   ]
  },
  {
   "cell_type": "markdown",
   "id": "891f6e75",
   "metadata": {},
   "source": [
    "## Model Setup\n",
    "\n",
    "Now that we have taken care of the equations, all we have left is to set up the model by defining the grid, initial conditions, and parameters. This will provide the foundation for our numerical simulations. For this implementation, we have the following parameters\n",
    "\n",
    "- $L_x$: Length of the domain in the x direction. 1 unit here translates to 10 degrees of latitude/longitude.\n",
    "- $L_y$: Half-length of the domain in the y direction. A value of 5 corresponds to a domain from -5 to 5.\n",
    "- $dx$: Grid spacing in the x direction.\n",
    "- $dy$: Grid spacing in the y direction.\n",
    "- $dt$: Time step size.\n",
    "- $eps_u$, $eps_v$, $eps_p$: Damping coefficients for the u, v, and p fields, respectively.\n",
    "- $num_steps$: Number of time steps to simulate.\n"
   ]
  },
  {
   "cell_type": "code",
   "execution_count": null,
   "id": "f2aa1a22",
   "metadata": {},
   "outputs": [],
   "source": [
    "model_parameters = {\n",
    "    \"Lx\": 25.0,\n",
    "    \"Ly\": 5.0,\n",
    "    \"dx\": 0.5,\n",
    "    \"dy\": 0.5,\n",
    "    \"dt\": 0.02,\n",
    "    \"eps_u\": 0.1,\n",
    "    \"eps_v\": 0.1,\n",
    "    \"eps_p\": 0.1,\n",
    "    \"num_steps\": 3000,\n",
    "}"
   ]
  },
  {
   "cell_type": "markdown",
   "id": "fa882f6c",
   "metadata": {},
   "source": [
    "Using these parameters, we can create the grid and include that inside our `model_parameters` dictionary."
   ]
  },
  {
   "cell_type": "code",
   "execution_count": null,
   "id": "756519f0",
   "metadata": {},
   "outputs": [],
   "source": [
    "def create_grid(params):\n",
    "    \"\"\"Creates the computational grid based on the provided parameters.\"\"\"\n",
    "    Lx, Ly, dx, dy = params[\"Lx\"], params[\"Ly\"], params[\"dx\"], params[\"dy\"]\n",
    "    xs = np.arange(0, Lx + dx, dx)\n",
    "    ys = np.arange(-Ly, Ly + dy, dy)\n",
    "    xx, yy = np.meshgrid(xs, ys, indexing=\"ij\")\n",
    "    return {\"xs\": xs, \"ys\": ys, \"xx\": xx, \"yy\": yy}"
   ]
  },
  {
   "cell_type": "code",
   "execution_count": null,
   "id": "04e8c4bd",
   "metadata": {},
   "outputs": [],
   "source": [
    "model_parameters[\"grid\"] = create_grid(model_parameters)"
   ]
  },
  {
   "cell_type": "markdown",
   "id": "a9c4767d",
   "metadata": {},
   "source": [
    "The heating can be created now that we have the grid information."
   ]
  },
  {
   "cell_type": "code",
   "execution_count": null,
   "id": "936c9512",
   "metadata": {},
   "outputs": [],
   "source": [
    "model_parameters[\"Q\"] = create_heating(\n",
    "    model_parameters[\"grid\"][\"xx\"], model_parameters[\"grid\"][\"yy\"]\n",
    ")\n",
    "model_parameters[\"Q\"].plot(cmap=\"Reds_r\", x=\"x\", figsize=(12.5, 5), add_colorbar=False)\n",
    "plt.title(\"Heating $Q$\")"
   ]
  },
  {
   "cell_type": "markdown",
   "id": "1c424a63",
   "metadata": {},
   "source": [
    "If you want to define your own model parameters, remember to call the functions like this\n",
    "\n",
    "```python\n",
    "model_parameters = {\n",
    "    'Lx': 25.0, 'Ly': 5.0,\n",
    "    'dx': 0.5, 'dy': 0.5,\n",
    "    'dt': 0.01,\n",
    "    'eps_u': 0.1, 'eps_v': 0.1, 'eps_p': 0.1,\n",
    "    'num_steps': 3000,\n",
    "}\n",
    "model_parameters[\"grid\"] = create_grid(model_parameters)\n",
    "model_parameters[\"Q\"] = create_heating(model_parameters[\"grid\"]['xx'], model_parameters[\"grid\"]['yy'])\n",
    "```"
   ]
  },
  {
   "cell_type": "markdown",
   "id": "0777af30",
   "metadata": {},
   "source": [
    "## Running the model"
   ]
  },
  {
   "cell_type": "markdown",
   "id": "d6644bcc",
   "metadata": {},
   "source": [
    "Now we are ready to run the model. The next function will take care of building the grid, initializing the arrays and creating the heating that goes into the simulation."
   ]
  },
  {
   "cell_type": "code",
   "execution_count": null,
   "id": "1b79fbe3",
   "metadata": {},
   "outputs": [],
   "source": [
    "def setup_and_run_model(params):\n",
    "    \"\"\"Sets up the grid and initial conditions, then runs the solver.\"\"\"\n",
    "    num_steps = params[\"num_steps\"]\n",
    "    grid = params[\"grid\"]\n",
    "\n",
    "    x_dim, y_dim = len(grid[\"xs\"]), len(grid[\"ys\"])\n",
    "\n",
    "    # Create 3D arrays with time as the first dimension\n",
    "    u = np.zeros((num_steps, x_dim, y_dim))\n",
    "    v = np.zeros_like(u)\n",
    "    p = np.zeros_like(u)\n",
    "\n",
    "    # Pack parameters for Numba\n",
    "    params_tuple = (\n",
    "        params[\"dt\"],\n",
    "        params[\"dx\"],\n",
    "        params[\"dy\"],\n",
    "        params[\"eps_u\"],\n",
    "        params[\"eps_v\"],\n",
    "        params[\"eps_p\"],\n",
    "        num_steps,\n",
    "    )\n",
    "\n",
    "    print(\"🚀 Starting simulation...\")\n",
    "    start_time = time.time()\n",
    "\n",
    "    # Run the solver (we extract data from Q to convert it from xarray -> numpy)\n",
    "    numba_solver_loop(u, v, p, params[\"Q\"].data, grid[\"yy\"], params_tuple)\n",
    "\n",
    "    end_time = time.time()\n",
    "    print(f\"✅ Simulation finished in {end_time - start_time:.2f} seconds.\")\n",
    "\n",
    "    ds = xr.Dataset(\n",
    "        {\n",
    "            \"u\": xr.DataArray(\n",
    "                u,\n",
    "                dims=(\"time\", \"x\", \"y\"),\n",
    "                coords={\n",
    "                    \"time\": np.arange(u.shape[0]),\n",
    "                    \"x\": grid[\"xs\"],\n",
    "                    \"y\": grid[\"ys\"],\n",
    "                },\n",
    "            ),\n",
    "            \"v\": xr.DataArray(\n",
    "                v,\n",
    "                dims=(\"time\", \"x\", \"y\"),\n",
    "                coords={\n",
    "                    \"time\": np.arange(v.shape[0]),\n",
    "                    \"x\": grid[\"xs\"],\n",
    "                    \"y\": grid[\"ys\"],\n",
    "                },\n",
    "            ),\n",
    "            \"p\": xr.DataArray(\n",
    "                p,\n",
    "                dims=(\"time\", \"x\", \"y\"),\n",
    "                coords={\n",
    "                    \"time\": np.arange(p.shape[0]),\n",
    "                    \"x\": grid[\"xs\"],\n",
    "                    \"y\": grid[\"ys\"],\n",
    "                },\n",
    "            ),\n",
    "        }\n",
    "    )\n",
    "\n",
    "    return ds"
   ]
  },
  {
   "cell_type": "markdown",
   "id": "5e4fdc86",
   "metadata": {},
   "source": [
    "The first time we run the model it will take longer so `numba` will compile the functions. Subsequent calls will be faster."
   ]
  },
  {
   "cell_type": "code",
   "execution_count": null,
   "id": "aa148104",
   "metadata": {},
   "outputs": [],
   "source": [
    "model_output = setup_and_run_model(model_parameters)"
   ]
  },
  {
   "cell_type": "markdown",
   "id": "27f818b3",
   "metadata": {},
   "source": [
    "## Visualize the results"
   ]
  },
  {
   "cell_type": "markdown",
   "id": "1cd76cda",
   "metadata": {},
   "source": [
    "Since we are wrapping the results using xarray, we can take advantage of its powerful visualization capabilities."
   ]
  },
  {
   "cell_type": "code",
   "execution_count": null,
   "id": "50bbe601",
   "metadata": {},
   "outputs": [],
   "source": [
    "plot_kwargs = dict(x=\"x\", add_colorbar=False)\n",
    "fig, ax = plt.subplots(figsize=(12.5, 5))\n",
    "model_output[\"p\"].isel(time=-1).plot.contourf(ax=ax, cmap=\"Blues_r\", **plot_kwargs)\n",
    "model_output[\"p\"].isel(time=-1).plot.contour(\n",
    "    ax=ax, colors=\"k\", linewidths=0.5, **plot_kwargs\n",
    ")\n",
    "model_output.isel(time=-1).thin(x=3, y=2).plot.quiver(\n",
    "    ax=ax, x=\"x\", y=\"y\", u=\"u\", v=\"v\", scale=30, color=\"k\", width=0.003, add_guide=False\n",
    ")\n",
    "ax.set_title(\"Gill-Matsuno output from symmetric forcing\")\n",
    "ax.set_xlabel(\"Zonal Distance (x)\")\n",
    "ax.set_ylabel(\"Meridional Distance (y)\")"
   ]
  },
  {
   "cell_type": "markdown",
   "id": "fe843cf5",
   "metadata": {},
   "source": [
    "We can visualize the individual time steps interactively by using `hvplot`.\n",
    "\n",
    "The quiver plot is called `vectorfield` in `hvplot` and it requires magnitude and angle instead of `u` and `v` components."
   ]
  },
  {
   "cell_type": "code",
   "execution_count": null,
   "id": "68775e6b",
   "metadata": {},
   "outputs": [],
   "source": [
    "# We reduce the number of frames this way\n",
    "model_output_hv = model_output.thin(time=100)\n",
    "model_output_hv[\"time\"] = np.arange(model_output_hv.u.shape[0])\n",
    "mag = np.sqrt(model_output_hv.u**2 + model_output_hv.v**2)\n",
    "angle = (np.pi / 2.0) - np.arctan2(model_output_hv.u / mag, model_output_hv.v / mag)\n",
    "\n",
    "ds = xr.Dataset(\n",
    "    {\n",
    "        \"mag\": xr.DataArray(\n",
    "            mag,\n",
    "            dims=(\"time\", \"x\", \"y\"),\n",
    "            coords={\n",
    "                \"y\": model_parameters[\"grid\"][\"ys\"],\n",
    "                \"x\": model_parameters[\"grid\"][\"xs\"],\n",
    "                \"time\": np.arange(mag.shape[0]),\n",
    "            },\n",
    "        ),\n",
    "        \"angle\": xr.DataArray(\n",
    "            angle,\n",
    "            dims=(\"time\", \"x\", \"y\"),\n",
    "            coords={\n",
    "                \"y\": model_parameters[\"grid\"][\"ys\"],\n",
    "                \"x\": model_parameters[\"grid\"][\"xs\"],\n",
    "                \"time\": np.arange(angle.shape[0]),\n",
    "            },\n",
    "        ),\n",
    "    }\n",
    ")"
   ]
  },
  {
   "cell_type": "markdown",
   "id": "25ed58e4",
   "metadata": {},
   "source": [
    "Now we can create the interactive plot"
   ]
  },
  {
   "cell_type": "code",
   "execution_count": null,
   "id": "682643e1",
   "metadata": {},
   "outputs": [],
   "source": [
    "levels = np.arange(-2, 0.5, 0.2)\n",
    "plot_ops = dict(\n",
    "    groupby=\"time\",\n",
    "    x=\"x\",\n",
    "    y=\"y\",\n",
    "    hover=False,\n",
    "    colorbar=False,\n",
    "    legend=False,\n",
    "    dynamic=False,\n",
    ")\n",
    "over = (\n",
    "    model_output_hv.p.hvplot.contourf(levels=levels, cmap=\"Blues_r\", **plot_ops)\n",
    "    * model_output_hv.p.hvplot.contour(\n",
    "        levels=levels, cmap=[\"black\"] * len(levels), **plot_ops\n",
    "    )\n",
    "    * ds.hvplot.vectorfield(angle=\"angle\", mag=\"mag\", **plot_ops).opts(magnitude=\"mag\")\n",
    ")\n",
    "over"
   ]
  }
 ],
 "metadata": {
  "kernelspec": {
   "display_name": "atmos-modeling-cookbook-dev",
   "language": "python",
   "name": "python3"
  },
  "language_info": {
   "codemirror_mode": {
    "name": "ipython",
    "version": 3
   },
   "file_extension": ".py",
   "mimetype": "text/x-python",
   "name": "python",
   "nbconvert_exporter": "python",
   "pygments_lexer": "ipython3",
   "version": "3.13.5"
  }
 },
 "nbformat": 4,
 "nbformat_minor": 5
}
